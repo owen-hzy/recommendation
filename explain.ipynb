{
 "cells": [
  {
   "cell_type": "code",
   "execution_count": 1,
   "metadata": {
    "collapsed": false
   },
   "outputs": [
    {
     "name": "stdout",
     "output_type": "stream",
     "text": [
      "Using matplotlib backend: TkAgg\n",
      "Populating the interactive namespace from numpy and matplotlib\n"
     ]
    }
   ],
   "source": [
    "%pylab\n",
    "%matplotlib inline\n",
    "import numpy as np\n",
    "import pandas as pd\n",
    "import matplotlib.pyplot as plt"
   ]
  },
  {
   "cell_type": "code",
   "execution_count": 2,
   "metadata": {
    "collapsed": true
   },
   "outputs": [],
   "source": [
    "# get the predicted matrix\n",
    "X = np.loadtxt(\"data/X.csv\", delimiter=\",\")\n",
    "Y = np.loadtxt(\"data/Y.csv\", delimiter=\",\")\n",
    "P_hat = np.dot(X, Y.T)"
   ]
  },
  {
   "cell_type": "code",
   "execution_count": null,
   "metadata": {
    "collapsed": true
   },
   "outputs": [],
   "source": [
    "train_data = pd.read_csv(\"data/train_data.csv\")\n",
    "train_matrix = pd.pivot_table(train_data, values=\"quantity\", index=[\"customer_id\"], columns=[\"item_id\"],\n",
    "                             aggfunc=np.sum, fill_value=0)\n",
    "R = train_matrix.values"
   ]
  },
  {
   "cell_type": "code",
   "execution_count": 28,
   "metadata": {
    "collapsed": true
   },
   "outputs": [],
   "source": [
    "# C is the confidence matrix\n",
    "C = np.ones((R.shape[0], R.shape[1]))\n",
    "C += 40 * R"
   ]
  },
  {
   "cell_type": "code",
   "execution_count": 30,
   "metadata": {
    "collapsed": true
   },
   "outputs": [],
   "source": [
    "I_f = np.zeros((3, 3))  # we first let factor dimension to be 3\n",
    "np.fill_diagonal(I_f, 1)\n",
    "I_n = np.zeros((R.shape[1], R.shape[1]))\n",
    "np.fill_diagonal(I_n, 1)"
   ]
  },
  {
   "cell_type": "code",
   "execution_count": 31,
   "metadata": {
    "collapsed": true
   },
   "outputs": [],
   "source": [
    "# P is the preference matrix\n",
    "P = np.zeros((R.shape[0], R.shape[1]))\n",
    "P[R > 0] = 1"
   ]
  },
  {
   "cell_type": "code",
   "execution_count": 74,
   "metadata": {
    "collapsed": false
   },
   "outputs": [
    {
     "data": {
      "text/plain": [
       "array(['D1792952280500', 'D1792952280600', 'D1793452400001'], dtype=object)"
      ]
     },
     "execution_count": 74,
     "metadata": {},
     "output_type": "execute_result"
    }
   ],
   "source": [
    "### demostrate for 10th user, recommend 10 items\n",
    "recommend_list_3 = np.argsort(P_hat[9])[::-1][0:3]\n",
    "recommended_items = train_matrix.columns[recommend_list_3].values\n",
    "recommended_items"
   ]
  },
  {
   "cell_type": "code",
   "execution_count": 35,
   "metadata": {
    "collapsed": false
   },
   "outputs": [],
   "source": [
    "C_u = np.zeros((R.shape[1], R.shape[1]))\n",
    "for index in xrange(R.shape[1]):\n",
    "    C_u[index][index] = C[9][index]\n",
    "W_u = inv(np.dot(Y.T, Y) + np.dot(np.dot(Y.T, C_u - I_n), Y) + 2 * I_f)  ## 3 * 3 matrix"
   ]
  },
  {
   "cell_type": "code",
   "execution_count": 39,
   "metadata": {
    "collapsed": false
   },
   "outputs": [],
   "source": [
    "P_9_nonzero_index = np.nonzero(P[9])[0]"
   ]
  },
  {
   "cell_type": "code",
   "execution_count": 41,
   "metadata": {
    "collapsed": false
   },
   "outputs": [],
   "source": [
    "c_u = C[9][P_9_nonzero_index]"
   ]
  },
  {
   "cell_type": "code",
   "execution_count": 44,
   "metadata": {
    "collapsed": false
   },
   "outputs": [
    {
     "data": {
      "text/plain": [
       "[array([ 0.05199538,  0.04514935,  0.04945257, -0.04091673,  0.17245023,\n",
       "         0.06586432,  0.28739602,  0.07461416,  0.0997171 ]),\n",
       " array([ 0.05870066,  0.06651653,  0.14409597,  0.10174654,  0.03674888,\n",
       "         0.05076268,  0.18769832,  0.09662078,  0.0607922 ]),\n",
       " array([ 0.04994686,  0.04516059,  0.06282878, -0.01689346,  0.15804223,\n",
       "         0.06939592,  0.2602177 ,  0.07614116,  0.09055445])]"
      ]
     },
     "execution_count": 44,
     "metadata": {},
     "output_type": "execute_result"
    }
   ],
   "source": [
    "s_u = []\n",
    "p_hat_ui_decomposed_array = []\n",
    "for i in recommend_list_3:\n",
    "    s_u.append(np.dot(np.dot(Y[i], W_u), Y.T[:, P_9_nonzero_index]))\n",
    "\n",
    "for i in xrange(len(recommend_list_3)):\n",
    "    p_hat_ui_decomposed_array.append(np.multiply(s_u[i], c_u))\n",
    "p_hat_ui_decomposed_array"
   ]
  },
  {
   "cell_type": "code",
   "execution_count": 50,
   "metadata": {
    "collapsed": false
   },
   "outputs": [],
   "source": [
    "p_hat_ui_decomposed_array_argsort = np.argsort(p_hat_ui_decomposed_array)"
   ]
  },
  {
   "cell_type": "code",
   "execution_count": 54,
   "metadata": {
    "collapsed": false
   },
   "outputs": [
    {
     "data": {
      "text/plain": [
       "array([[3, 1, 2, 0, 5, 7, 8, 4, 6],\n",
       "       [4, 5, 0, 8, 1, 7, 3, 2, 6],\n",
       "       [3, 1, 0, 2, 5, 7, 8, 4, 6]])"
      ]
     },
     "execution_count": 54,
     "metadata": {},
     "output_type": "execute_result"
    }
   ],
   "source": [
    "p_hat_ui_decomposed_array_argsort"
   ]
  },
  {
   "cell_type": "code",
   "execution_count": 62,
   "metadata": {
    "collapsed": false
   },
   "outputs": [],
   "source": [
    "p_hat_reverse = []\n",
    "for i in xrange(len(recommend_list_3)):\n",
    "    p_hat_reverse.append(p_hat_ui_decomposed_array_argsort[i][::-1])"
   ]
  },
  {
   "cell_type": "code",
   "execution_count": 65,
   "metadata": {
    "collapsed": false
   },
   "outputs": [],
   "source": [
    "p_hat_reverse = np.delete(p_hat_reverse, np.arange(3, len(p_hat_reverse[0])), 1)"
   ]
  },
  {
   "cell_type": "code",
   "execution_count": 85,
   "metadata": {
    "collapsed": false
   },
   "outputs": [
    {
     "data": {
      "text/plain": [
       "array([[1404, 1233, 2038],\n",
       "       [1404,  734,  879],\n",
       "       [1404, 1233, 2038]])"
      ]
     },
     "execution_count": 85,
     "metadata": {},
     "output_type": "execute_result"
    }
   ],
   "source": [
    "P_9_nonzero_index[p_hat_reverse]"
   ]
  },
  {
   "cell_type": "code",
   "execution_count": 86,
   "metadata": {
    "collapsed": false
   },
   "outputs": [
    {
     "data": {
      "text/plain": [
       "Index([[u'D1793452400001', u'D1777551370990', u'P1E46123680500'],\n",
       "       [u'D1793452400001', u'D1540784170001', u'D1557346410250'],\n",
       "       [u'D1793452400001', u'D1777551370990', u'P1E46123680500']],\n",
       "      dtype='object', name=u'item_id')"
      ]
     },
     "execution_count": 86,
     "metadata": {},
     "output_type": "execute_result"
    }
   ],
   "source": [
    "train_matrix.columns[P_9_nonzero_index[p_hat_reverse]]"
   ]
  },
  {
   "cell_type": "code",
   "execution_count": 88,
   "metadata": {
    "collapsed": false
   },
   "outputs": [
    {
     "data": {
      "text/plain": [
       "array([ 0.28739602,  0.17245023,  0.0997171 ])"
      ]
     },
     "execution_count": 88,
     "metadata": {},
     "output_type": "execute_result"
    }
   ],
   "source": [
    "p_hat_ui_decomposed_array[0][p_hat_reverse[0]]"
   ]
  },
  {
   "cell_type": "code",
   "execution_count": 95,
   "metadata": {
    "collapsed": false
   },
   "outputs": [
    {
     "name": "stdout",
     "output_type": "stream",
     "text": [
      "recommend: D1792952280500, predicted preference: 0.805722\n",
      "purchased: ['D1793452400001' 'D1777551370990' 'P1E46123680500']\n",
      "contribution: [ 0.28739602  0.17245023  0.0997171 ]\n",
      "Ratio: 0.694486514562\n",
      "\n",
      "recommend: D1792952280600, predicted preference: 0.803683\n",
      "purchased: ['D1793452400001' 'D1540784170001' 'D1557346410250']\n",
      "contribution: [ 0.18769832  0.14409597  0.10174654]\n",
      "Ratio: 0.539442880696\n",
      "\n",
      "recommend: D1793452400001, predicted preference: 0.795394\n",
      "purchased: ['D1793452400001' 'D1777551370990' 'P1E46123680500']\n",
      "contribution: [ 0.2602177   0.15804223  0.09055445]\n",
      "Ratio: 0.639700870377\n",
      "\n"
     ]
    }
   ],
   "source": [
    "for i in xrange(len(p_hat_reverse[0])):\n",
    "    print \"recommend: %s, predicted preference: %f\" % (recommended_items[i], np.sum(p_hat_ui_decomposed_array[i]))\n",
    "    print \"purchased: %s\" % (train_matrix.columns.values[P_9_nonzero_index[p_hat_reverse[i]]])\n",
    "    print \"contribution: %s\" % (p_hat_ui_decomposed_array[i][p_hat_reverse[i]])\n",
    "    print \"Ratio: %s\\n\" % np.true_divide(np.sum(p_hat_ui_decomposed_array[i][p_hat_reverse[i]]), np.sum(p_hat_ui_decomposed_array[i]))"
   ]
  },
  {
   "cell_type": "code",
   "execution_count": 96,
   "metadata": {
    "collapsed": false
   },
   "outputs": [
    {
     "data": {
      "text/plain": [
       "array([1404, 1233, 2038])"
      ]
     },
     "execution_count": 96,
     "metadata": {},
     "output_type": "execute_result"
    }
   ],
   "source": [
    "P_9_nonzero_index[p_hat_reverse[0]]"
   ]
  },
  {
   "cell_type": "code",
   "execution_count": 103,
   "metadata": {
    "collapsed": false
   },
   "outputs": [
    {
     "data": {
      "text/plain": [
       "item_id\n",
       "D1793452400001    1\n",
       "D1540784170001    1\n",
       "D1557346410250    1\n",
       "Name: 000004_LAP, dtype: int64"
      ]
     },
     "execution_count": 103,
     "metadata": {},
     "output_type": "execute_result"
    }
   ],
   "source": [
    "train_matrix.iloc[9, P_9_nonzero_index[p_hat_reverse[1]]]"
   ]
  },
  {
   "cell_type": "code",
   "execution_count": 105,
   "metadata": {
    "collapsed": false
   },
   "outputs": [
    {
     "data": {
      "text/plain": [
       "item_id\n",
       "D1793452400001    1\n",
       "D1777551370990    1\n",
       "P1E46123680500    1\n",
       "Name: 000004_LAP, dtype: int64"
      ]
     },
     "execution_count": 105,
     "metadata": {},
     "output_type": "execute_result"
    }
   ],
   "source": [
    "train_matrix.iloc[9, P_9_nonzero_index[p_hat_reverse[2]]]"
   ]
  },
  {
   "cell_type": "code",
   "execution_count": null,
   "metadata": {
    "collapsed": true
   },
   "outputs": [],
   "source": []
  }
 ],
 "metadata": {
  "kernelspec": {
   "display_name": "Python 2",
   "language": "python",
   "name": "python2"
  },
  "language_info": {
   "codemirror_mode": {
    "name": "ipython",
    "version": 2
   },
   "file_extension": ".py",
   "mimetype": "text/x-python",
   "name": "python",
   "nbconvert_exporter": "python",
   "pygments_lexer": "ipython2",
   "version": "2.7.11"
  }
 },
 "nbformat": 4,
 "nbformat_minor": 0
}
